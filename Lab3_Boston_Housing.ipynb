{
 "metadata": {
  "name": "",
  "signature": "sha256:bd964f04a63e6d9161dfa73a6fca77866498fcaca7e0c135973bed2c5d0356ea"
 },
 "nbformat": 3,
 "nbformat_minor": 0,
 "worksheets": [
  {
   "cells": [
    {
     "cell_type": "markdown",
     "metadata": {},
     "source": [
      "## Boston Housing Assignment\n",
      "\n",
      "In this assignment you'll be using linear regression to estimate the cost of house in boston, using a well known dataset.\n",
      "\n",
      "Goals:\n",
      "+  Measure the performance of the model I created using $R^{2}$ and MSE\n",
      "> Learn how to use sklearn.metrics.r2_score and sklearn.metrics.mean_squared_error\n",
      "+  Implement a new model using L2 regularization\n",
      "> Use sklearn.linear_model.Ridge or sklearn.linear_model.Lasso \n",
      "+  Get the best model you can by optimizing the regularization parameter.   "
     ]
    },
    {
     "cell_type": "code",
     "collapsed": false,
     "input": [
      "from sklearn import datasets\n",
      "import pandas as pd\n",
      "from sklearn.preprocessing import StandardScaler\n",
      "from sklearn.cross_validation import train_test_split\n",
      "from sklearn.metrics import mean_squared_error\n",
      "from sklearn.metrics import r2_score\n",
      "from sklearn.linear_model import LinearRegression\n",
      "from sklearn.linear_model import Ridge\n",
      "import math"
     ],
     "language": "python",
     "metadata": {},
     "outputs": [],
     "prompt_number": 1
    },
    {
     "cell_type": "code",
     "collapsed": false,
     "input": [
      "bean = datasets.load_boston()\n",
      "print bean.DESCR"
     ],
     "language": "python",
     "metadata": {},
     "outputs": [
      {
       "output_type": "stream",
       "stream": "stdout",
       "text": [
        "Boston House Prices dataset\n",
        "\n",
        "Notes\n",
        "------\n",
        "Data Set Characteristics:  \n",
        "\n",
        "    :Number of Instances: 506 \n",
        "\n",
        "    :Number of Attributes: 13 numeric/categorical predictive\n",
        "    \n",
        "    :Median Value (attribute 14) is usually the target\n",
        "\n",
        "    :Attribute Information (in order):\n",
        "        - CRIM     per capita crime rate by town\n",
        "        - ZN       proportion of residential land zoned for lots over 25,000 sq.ft.\n",
        "        - INDUS    proportion of non-retail business acres per town\n",
        "        - CHAS     Charles River dummy variable (= 1 if tract bounds river; 0 otherwise)\n",
        "        - NOX      nitric oxides concentration (parts per 10 million)\n",
        "        - RM       average number of rooms per dwelling\n",
        "        - AGE      proportion of owner-occupied units built prior to 1940\n",
        "        - DIS      weighted distances to five Boston employment centres\n",
        "        - RAD      index of accessibility to radial highways\n",
        "        - TAX      full-value property-tax rate per $10,000\n",
        "        - PTRATIO  pupil-teacher ratio by town\n",
        "        - B        1000(Bk - 0.63)^2 where Bk is the proportion of blacks by town\n",
        "        - LSTAT    % lower status of the population\n",
        "        - MEDV     Median value of owner-occupied homes in $1000's\n",
        "\n",
        "    :Missing Attribute Values: None\n",
        "\n",
        "    :Creator: Harrison, D. and Rubinfeld, D.L.\n",
        "\n",
        "This is a copy of UCI ML housing dataset.\n",
        "http://archive.ics.uci.edu/ml/datasets/Housing\n",
        "\n",
        "\n",
        "This dataset was taken from the StatLib library which is maintained at Carnegie Mellon University.\n",
        "\n",
        "The Boston house-price data of Harrison, D. and Rubinfeld, D.L. 'Hedonic\n",
        "prices and the demand for clean air', J. Environ. Economics & Management,\n",
        "vol.5, 81-102, 1978.   Used in Belsley, Kuh & Welsch, 'Regression diagnostics\n",
        "...', Wiley, 1980.   N.B. Various transformations are used in the table on\n",
        "pages 244-261 of the latter.\n",
        "\n",
        "The Boston house-price data has been used in many machine learning papers that address regression\n",
        "problems.   \n",
        "     \n",
        "**References**\n",
        "\n",
        "   - Belsley, Kuh & Welsch, 'Regression diagnostics: Identifying Influential Data and Sources of Collinearity', Wiley, 1980. 244-261.\n",
        "   - Quinlan,R. (1993). Combining Instance-Based and Model-Based Learning. In Proceedings on the Tenth International Conference of Machine Learning, 236-243, University of Massachusetts, Amherst. Morgan Kaufmann.\n",
        "   - many more! (see http://archive.ics.uci.edu/ml/datasets/Housing)\n",
        "\n"
       ]
      }
     ],
     "prompt_number": 2
    },
    {
     "cell_type": "code",
     "collapsed": false,
     "input": [
      "def load_boston():\n",
      "    scaler = StandardScaler()\n",
      "    boston = datasets.load_boston()\n",
      "    X=boston.data\n",
      "    y=boston.target\n",
      "    X = scaler.fit_transform(X)\n",
      "    return train_test_split(X,y)"
     ],
     "language": "python",
     "metadata": {},
     "outputs": [],
     "prompt_number": 3
    },
    {
     "cell_type": "code",
     "collapsed": false,
     "input": [
      "X_train, X_test, y_train, y_test = load_boston()"
     ],
     "language": "python",
     "metadata": {},
     "outputs": [],
     "prompt_number": 4
    },
    {
     "cell_type": "code",
     "collapsed": false,
     "input": [
      "X_train.shape"
     ],
     "language": "python",
     "metadata": {},
     "outputs": [
      {
       "metadata": {},
       "output_type": "pyout",
       "prompt_number": 5,
       "text": [
        "(379L, 13L)"
       ]
      }
     ],
     "prompt_number": 5
    },
    {
     "cell_type": "markdown",
     "metadata": {},
     "source": [
      "### Fitting a Linear Regression\n",
      "\n",
      "It's as easy as instantiating a new regression object (line 1) and giving your regression object your training data\n",
      "(line 2) by calling .fit(independent variables, dependent variable)\n",
      "\n"
     ]
    },
    {
     "cell_type": "code",
     "collapsed": false,
     "input": [
      "clf1 = LinearRegression()\n",
      "clf1.fit(X_train, y_train)"
     ],
     "language": "python",
     "metadata": {},
     "outputs": [
      {
       "metadata": {},
       "output_type": "pyout",
       "prompt_number": 6,
       "text": [
        "LinearRegression(copy_X=True, fit_intercept=True, normalize=False)"
       ]
      }
     ],
     "prompt_number": 6
    },
    {
     "cell_type": "markdown",
     "metadata": {},
     "source": [
      "### Making a Prediction\n",
      "X_test is our holdout set of data.  We know the answer (y_test) but the computer does not.   \n",
      "\n",
      "Using the command below, I create a tuple for each observation, where I'm combining the real value (y_test) with\n",
      "the value our regressor predicts (clf1.predict(X_test))\n"
     ]
    },
    {
     "cell_type": "code",
     "collapsed": false,
     "input": [
      "zip (y_test, clf1.predict(X_test))"
     ],
     "language": "python",
     "metadata": {},
     "outputs": [
      {
       "metadata": {},
       "output_type": "pyout",
       "prompt_number": 7,
       "text": [
        "[(20.800000000000001, 23.491987240028742),\n",
        " (10.199999999999999, 6.0011420267234818),\n",
        " (25.0, 25.686337344948747),\n",
        " (23.100000000000001, 16.834228662548007),\n",
        " (28.0, 28.460235534542932),\n",
        " (20.600000000000001, 27.235261524158368),\n",
        " (21.399999999999999, 21.412484591169029),\n",
        " (21.399999999999999, 20.216093431179242),\n",
        " (17.100000000000001, 17.416952734729403),\n",
        " (14.6, 19.020468056040272),\n",
        " (12.699999999999999, 11.462517757269737),\n",
        " (41.700000000000003, 38.78920086658794),\n",
        " (19.399999999999999, 17.812547381391642),\n",
        " (30.100000000000001, 35.224650639260744),\n",
        " (14.5, 17.850989762910295),\n",
        " (50.0, 33.55000083851877),\n",
        " (46.700000000000003, 35.902056123892109),\n",
        " (24.800000000000001, 25.184656407101208),\n",
        " (31.0, 35.160636690744532),\n",
        " (20.300000000000001, 23.421913843702164),\n",
        " (28.699999999999999, 30.936360002893188),\n",
        " (20.5, 21.182319008915101),\n",
        " (21.199999999999999, 22.232090031489125),\n",
        " (23.100000000000001, 24.452174497142213),\n",
        " (19.600000000000001, 19.713427676321004),\n",
        " (24.800000000000001, 31.461594368783388),\n",
        " (20.699999999999999, 21.601007493397073),\n",
        " (8.5, 6.7175097502869114),\n",
        " (23.699999999999999, 27.012270087081806),\n",
        " (31.600000000000001, 33.624729596052134),\n",
        " (24.300000000000001, 29.252990057908363),\n",
        " (20.100000000000001, 24.031833884844069),\n",
        " (19.5, 19.771159308642645),\n",
        " (36.100000000000001, 33.260425172919568),\n",
        " (25.100000000000001, 29.642414321589641),\n",
        " (23.199999999999999, 25.465264679154867),\n",
        " (17.399999999999999, 17.444896982625075),\n",
        " (37.899999999999999, 33.747895872247142),\n",
        " (7.4000000000000004, 5.2137579732493755),\n",
        " (29.0, 31.140979925058296),\n",
        " (23.0, 23.264830503358958),\n",
        " (21.699999999999999, 22.1582265652602),\n",
        " (20.0, 16.495225456941185),\n",
        " (8.8000000000000007, 4.5328909902493493),\n",
        " (20.399999999999999, 20.342733549332266),\n",
        " (25.0, 24.582417571889039),\n",
        " (9.5999999999999996, 14.042630506516797),\n",
        " (23.100000000000001, 8.6605227355167127),\n",
        " (22.600000000000001, 24.392859395158947),\n",
        " (22.899999999999999, 29.182348833205111),\n",
        " (8.5, 16.028828000548717),\n",
        " (28.399999999999999, 28.404523066325005),\n",
        " (24.399999999999999, 23.126214994826739),\n",
        " (50.0, 40.688117278740009),\n",
        " (13.9, 17.8702515461116),\n",
        " (15.6, 16.191792449492294),\n",
        " (22.600000000000001, 26.08556674407297),\n",
        " (22.899999999999999, 23.533201558300423),\n",
        " (22.0, 27.909282843528281),\n",
        " (22.0, 27.998301146138317),\n",
        " (20.800000000000001, 17.697608854727811),\n",
        " (22.5, 18.089974264966443),\n",
        " (9.5, 12.833295037042546),\n",
        " (24.399999999999999, 24.497744914409232),\n",
        " (24.5, 28.009117045815373),\n",
        " (23.300000000000001, 28.782508649490904),\n",
        " (24.0, 25.098739376644676),\n",
        " (17.0, 22.608794943908403),\n",
        " (23.699999999999999, 28.698823302236661),\n",
        " (50.0, 31.450987474606034),\n",
        " (24.600000000000001, 24.723453686244092),\n",
        " (20.0, 20.56968930845429),\n",
        " (8.4000000000000004, 4.8384380916761067),\n",
        " (21.899999999999999, 37.73645128579232),\n",
        " (23.899999999999999, 27.914575028648866),\n",
        " (13.9, 13.04099604557417),\n",
        " (20.300000000000001, 22.992569616924502),\n",
        " (23.899999999999999, 27.590790388900846),\n",
        " (22.800000000000001, 27.975383697915554),\n",
        " (19.399999999999999, 23.153521679941438),\n",
        " (13.800000000000001, 13.158186123236774),\n",
        " (20.899999999999999, 22.211577573367524),\n",
        " (11.699999999999999, 15.332051336106193),\n",
        " (10.199999999999999, 16.664911697644698),\n",
        " (30.800000000000001, 31.204635807629284),\n",
        " (31.5, 31.035064622596746),\n",
        " (16.800000000000001, 19.247786944790857),\n",
        " (13.6, 12.325786654053594),\n",
        " (23.300000000000001, 26.3473975060238),\n",
        " (25.0, 29.150188912513809),\n",
        " (21.199999999999999, 23.404535772136523),\n",
        " (13.4, 14.943244492047748),\n",
        " (27.5, 19.642221315225427),\n",
        " (23.699999999999999, 27.722497784255093),\n",
        " (20.5, 20.165849610495023),\n",
        " (20.300000000000001, 22.458894758086164),\n",
        " (18.899999999999999, 19.775349347154922),\n",
        " (25.0, 28.096044485985068),\n",
        " (28.399999999999999, 30.426399780064511),\n",
        " (8.8000000000000007, 2.3299248056786546),\n",
        " (32.5, 30.582054042059454),\n",
        " (18.300000000000001, 18.925925207735624),\n",
        " (17.800000000000001, 10.619885345012325),\n",
        " (10.4, 6.0090115510935043),\n",
        " (19.300000000000001, 20.65322413604251),\n",
        " (45.399999999999999, 39.528355906154943),\n",
        " (25.199999999999999, 27.095331867683896),\n",
        " (17.199999999999999, 15.159866452810487),\n",
        " (13.800000000000001, 15.799162667186614),\n",
        " (21.100000000000001, 20.506457014215485),\n",
        " (29.600000000000001, 24.554094199248176),\n",
        " (18.600000000000001, 17.32879515922637),\n",
        " (20.600000000000001, 20.989109011797808),\n",
        " (48.5, 42.733282280795656),\n",
        " (20.600000000000001, 16.529119064445009),\n",
        " (10.5, 5.3167588367981153),\n",
        " (27.5, 12.228121797720227),\n",
        " (24.100000000000001, 29.45852665917133),\n",
        " (27.5, 24.429105158655339),\n",
        " (50.0, 45.024953717377102),\n",
        " (16.199999999999999, 20.427358907468328),\n",
        " (15.6, 13.291699768554988),\n",
        " (19.899999999999999, 18.917067925667354),\n",
        " (22.300000000000001, 27.318729417997911),\n",
        " (20.399999999999999, 19.254931394449155),\n",
        " (10.800000000000001, 11.242543494601831),\n",
        " (19.899999999999999, 17.597529492713697)]"
       ]
      }
     ],
     "prompt_number": 7
    },
    {
     "cell_type": "markdown",
     "metadata": {},
     "source": [
      " ###Implimentation of scikit learn's r2 and mse methods to measure the performance of linear regressor."
     ]
    },
    {
     "cell_type": "code",
     "collapsed": false,
     "input": [
      "r2_score(y_test, clf1.predict(X_test))"
     ],
     "language": "python",
     "metadata": {},
     "outputs": [
      {
       "metadata": {},
       "output_type": "pyout",
       "prompt_number": 8,
       "text": [
        "0.70444917653286487"
       ]
      }
     ],
     "prompt_number": 8
    },
    {
     "cell_type": "code",
     "collapsed": false,
     "input": [
      "math.sqrt(mean_squared_error(y_test, clf1.predict(X_test)))"
     ],
     "language": "python",
     "metadata": {},
     "outputs": [
      {
       "metadata": {},
       "output_type": "pyout",
       "prompt_number": 10,
       "text": [
        "4.8254364226685045"
       ]
      }
     ],
     "prompt_number": 10
    },
    {
     "cell_type": "markdown",
     "metadata": {},
     "source": [
      "###Implimentation of sklearn.linear_model.Ridge\n",
      "<li>Adjusting the regularization paramater alpha \n",
      "<li>Small positive values of alpha improve the conditioning of the problem and reduce the variance of the estimates.(Source: http://scikit-learn.org/stable/modules/generated/sklearn.linear_model.Ridge.html)"
     ]
    },
    {
     "cell_type": "code",
     "collapsed": false,
     "input": [
      "clf2 = Ridge(alpha=0.000000000001)"
     ],
     "language": "python",
     "metadata": {},
     "outputs": [],
     "prompt_number": 143
    },
    {
     "cell_type": "code",
     "collapsed": false,
     "input": [
      "clf2.fit(X_train, y_train)"
     ],
     "language": "python",
     "metadata": {},
     "outputs": [
      {
       "metadata": {},
       "output_type": "pyout",
       "prompt_number": 144,
       "text": [
        "Ridge(alpha=1e-12, copy_X=True, fit_intercept=True, max_iter=None,\n",
        "   normalize=False, solver='auto', tol=0.001)"
       ]
      }
     ],
     "prompt_number": 144
    },
    {
     "cell_type": "code",
     "collapsed": false,
     "input": [
      "zip (y_test, clf2.predict(X_test))"
     ],
     "language": "python",
     "metadata": {},
     "outputs": [
      {
       "metadata": {},
       "output_type": "pyout",
       "prompt_number": 145,
       "text": [
        "[(20.800000000000001, 23.491987240028749),\n",
        " (10.199999999999999, 6.0011420267235032),\n",
        " (25.0, 25.686337344948708),\n",
        " (23.100000000000001, 16.83422866254806),\n",
        " (28.0, 28.460235534542921),\n",
        " (20.600000000000001, 27.235261524158268),\n",
        " (21.399999999999999, 21.412484591168983),\n",
        " (21.399999999999999, 20.216093431179218),\n",
        " (17.100000000000001, 17.416952734729406),\n",
        " (14.6, 19.020468056040237),\n",
        " (12.699999999999999, 11.462517757269795),\n",
        " (41.700000000000003, 38.789200866587898),\n",
        " (19.399999999999999, 17.812547381391681),\n",
        " (30.100000000000001, 35.224650639260709),\n",
        " (14.5, 17.850989762910324),\n",
        " (50.0, 33.55000083851872),\n",
        " (46.700000000000003, 35.902056123892066),\n",
        " (24.800000000000001, 25.184656407101215),\n",
        " (31.0, 35.160636690744511),\n",
        " (20.300000000000001, 23.42191384370215),\n",
        " (28.699999999999999, 30.936360002893203),\n",
        " (20.5, 21.182319008914952),\n",
        " (21.199999999999999, 22.232090031489086),\n",
        " (23.100000000000001, 24.452174497142209),\n",
        " (19.600000000000001, 19.713427676321015),\n",
        " (24.800000000000001, 31.46159436878342),\n",
        " (20.699999999999999, 21.601007493397077),\n",
        " (8.5, 6.717509750286947),\n",
        " (23.699999999999999, 27.012270087081738),\n",
        " (31.600000000000001, 33.624729596052099),\n",
        " (24.300000000000001, 29.252990057908306),\n",
        " (20.100000000000001, 24.031833884844069),\n",
        " (19.5, 19.77115930864263),\n",
        " (36.100000000000001, 33.260425172919497),\n",
        " (25.100000000000001, 29.642414321589651),\n",
        " (23.199999999999999, 25.465264679154874),\n",
        " (17.399999999999999, 17.444896982625135),\n",
        " (37.899999999999999, 33.747895872247092),\n",
        " (7.4000000000000004, 5.2137579732494039),\n",
        " (29.0, 31.140979925058296),\n",
        " (23.0, 23.264830503358901),\n",
        " (21.699999999999999, 22.158226565260229),\n",
        " (20.0, 16.495225456941217),\n",
        " (8.8000000000000007, 4.5328909902493919),\n",
        " (20.399999999999999, 20.342733549332294),\n",
        " (25.0, 24.582417571889007),\n",
        " (9.5999999999999996, 14.042630506516792),\n",
        " (23.100000000000001, 8.6605227355166399),\n",
        " (22.600000000000001, 24.392859395159061),\n",
        " (22.899999999999999, 29.182348833205012),\n",
        " (8.5, 16.028828000548696),\n",
        " (28.399999999999999, 28.404523066325016),\n",
        " (24.399999999999999, 23.126214994826761),\n",
        " (50.0, 40.688117278739959),\n",
        " (13.9, 17.870251546111589),\n",
        " (15.6, 16.191792449492326),\n",
        " (22.600000000000001, 26.085566744072956),\n",
        " (22.899999999999999, 23.533201558300437),\n",
        " (22.0, 27.909282843528331),\n",
        " (22.0, 27.998301146138317),\n",
        " (20.800000000000001, 17.697608854727761),\n",
        " (22.5, 18.089974264966436),\n",
        " (9.5, 12.833295037042539),\n",
        " (24.399999999999999, 24.497744914409246),\n",
        " (24.5, 28.009117045815387),\n",
        " (23.300000000000001, 28.782508649490889),\n",
        " (24.0, 25.098739376644644),\n",
        " (17.0, 22.608794943908482),\n",
        " (23.699999999999999, 28.698823302236644),\n",
        " (50.0, 31.450987474605984),\n",
        " (24.600000000000001, 24.723453686244095),\n",
        " (20.0, 20.569689308454286),\n",
        " (8.4000000000000004, 4.8384380916761494),\n",
        " (21.899999999999999, 37.736451285792313),\n",
        " (23.899999999999999, 27.914575028648905),\n",
        " (13.9, 13.040996045574211),\n",
        " (20.300000000000001, 22.992569616924346),\n",
        " (23.899999999999999, 27.590790388900825),\n",
        " (22.800000000000001, 27.975383697915525),\n",
        " (19.399999999999999, 23.153521679941424),\n",
        " (13.800000000000001, 13.158186123236842),\n",
        " (20.899999999999999, 22.211577573367592),\n",
        " (11.699999999999999, 15.332051336106176),\n",
        " (10.199999999999999, 16.664911697644683),\n",
        " (30.800000000000001, 31.204635807629241),\n",
        " (31.5, 31.035064622596696),\n",
        " (16.800000000000001, 19.247786944790878),\n",
        " (13.6, 12.325786654053639),\n",
        " (23.300000000000001, 26.347397506023817),\n",
        " (25.0, 29.150188912513705),\n",
        " (21.199999999999999, 23.404535772136565),\n",
        " (13.4, 14.943244492047851),\n",
        " (27.5, 19.642221315225385),\n",
        " (23.699999999999999, 27.722497784255086),\n",
        " (20.5, 20.165849610495052),\n",
        " (20.300000000000001, 22.458894758086171),\n",
        " (18.899999999999999, 19.775349347154968),\n",
        " (25.0, 28.09604448598505),\n",
        " (28.399999999999999, 30.426399780064429),\n",
        " (8.8000000000000007, 2.3299248056786688),\n",
        " (32.5, 30.582054042059404),\n",
        " (18.300000000000001, 18.925925207735666),\n",
        " (17.800000000000001, 10.619885345012396),\n",
        " (10.4, 6.0090115510935149),\n",
        " (19.300000000000001, 20.653224136042557),\n",
        " (45.399999999999999, 39.528355906154871),\n",
        " (25.199999999999999, 27.095331867683846),\n",
        " (17.199999999999999, 15.15986645281061),\n",
        " (13.800000000000001, 15.799162667186568),\n",
        " (21.100000000000001, 20.506457014215485),\n",
        " (29.600000000000001, 24.554094199248155),\n",
        " (18.600000000000001, 17.328795159226516),\n",
        " (20.600000000000001, 20.989109011797762),\n",
        " (48.5, 42.733282280795564),\n",
        " (20.600000000000001, 16.529119064445098),\n",
        " (10.5, 5.3167588367981331),\n",
        " (27.5, 12.228121797720156),\n",
        " (24.100000000000001, 29.458526659171362),\n",
        " (27.5, 24.429105158655371),\n",
        " (50.0, 45.024953717377088),\n",
        " (16.199999999999999, 20.427358907468331),\n",
        " (15.6, 13.291699768555008),\n",
        " (19.899999999999999, 18.917067925667379),\n",
        " (22.300000000000001, 27.318729417997879),\n",
        " (20.399999999999999, 19.254931394449184),\n",
        " (10.800000000000001, 11.24254349460184),\n",
        " (19.899999999999999, 17.597529492713672)]"
       ]
      }
     ],
     "prompt_number": 145
    },
    {
     "cell_type": "code",
     "collapsed": false,
     "input": [
      "r2_score(y_test, clf2.predict(X_test))"
     ],
     "language": "python",
     "metadata": {},
     "outputs": [
      {
       "metadata": {},
       "output_type": "pyout",
       "prompt_number": 146,
       "text": [
        "0.70444917653286443"
       ]
      }
     ],
     "prompt_number": 146
    },
    {
     "cell_type": "code",
     "collapsed": false,
     "input": [
      "math.sqrt(mean_squared_error(y_test, clf2.predict(X_test)))"
     ],
     "language": "python",
     "metadata": {},
     "outputs": [
      {
       "metadata": {},
       "output_type": "pyout",
       "prompt_number": 147,
       "text": [
        "4.825436422668506"
       ]
      }
     ],
     "prompt_number": 147
    },
    {
     "cell_type": "code",
     "collapsed": false,
     "input": [],
     "language": "python",
     "metadata": {},
     "outputs": []
    }
   ],
   "metadata": {}
  }
 ]
}